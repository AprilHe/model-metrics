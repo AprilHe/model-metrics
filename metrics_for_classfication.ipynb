{
 "cells": [
  {
   "cell_type": "markdown",
   "metadata": {},
   "source": [
    "# metrics for classification\n",
    "\n",
    "**Task** - Determining the right thresholds/decision boundaries between the three classes (undamaged/repair/replace)"
   ]
  },
  {
   "cell_type": "code",
   "execution_count": 1,
   "metadata": {},
   "outputs": [],
   "source": [
    "import numpy as np \n",
    "import pandas as pd\n",
    "import glob\n",
    "import matplotlib as mp\n",
    "import matplotlib.pyplot as plt\n",
    "import matplotlib.gridspec as gridspec\n",
    "import seaborn as sns\n",
    "plt.style.use('fivethirtyeight')\n",
    "import warnings\n",
    "warnings.filterwarnings('ignore')\n",
    "\n",
    "# Pandas options\n",
    "pd.set_option('display.max_colwidth', 1000, 'display.max_rows', 1000, 'display.max_columns', None)\n",
    "\n",
    "# Plotting options\n",
    "%matplotlib inline\n",
    "mp.style.use('ggplot')\n",
    "sns.set(style='whitegrid')\n",
    "\n",
    "# Sklearn classification model evaluation functions\n",
    "from sklearn.metrics import classification_report\n",
    "from sklearn.metrics import accuracy_score\n",
    "from sklearn.metrics import confusion_matrix\n",
    "from sklearn.metrics import precision_score\n",
    "from sklearn.metrics import roc_curve, auc, roc_auc_score, precision_recall_curve, f1_score"
   ]
  },
  {
   "cell_type": "code",
   "execution_count": 2,
   "metadata": {},
   "outputs": [],
   "source": [
    "### Load all metadata\n",
    "path = r'input/metadata' \n",
    "all_files = glob.glob(path + \"/*.csv.gz\")\n",
    "\n",
    "li = []\n",
    "\n",
    "for filename in all_files:\n",
    "    df = pd.read_csv(filename, index_col=None, compression='gzip',header=0, sep=',', quotechar='\"')\n",
    "    li.append(df)\n",
    "\n",
    "claims = pd.concat(li, axis=0, ignore_index=True)"
   ]
  },
  {
   "cell_type": "code",
   "execution_count": 3,
   "metadata": {},
   "outputs": [
    {
     "data": {
      "text/html": [
       "<div>\n",
       "<style scoped>\n",
       "    .dataframe tbody tr th:only-of-type {\n",
       "        vertical-align: middle;\n",
       "    }\n",
       "\n",
       "    .dataframe tbody tr th {\n",
       "        vertical-align: top;\n",
       "    }\n",
       "\n",
       "    .dataframe thead th {\n",
       "        text-align: right;\n",
       "    }\n",
       "</style>\n",
       "<table border=\"1\" class=\"dataframe\">\n",
       "  <thead>\n",
       "    <tr style=\"text-align: right;\">\n",
       "      <th></th>\n",
       "      <th>claim_id</th>\n",
       "      <th>make</th>\n",
       "      <th>model</th>\n",
       "      <th>year</th>\n",
       "      <th>poi</th>\n",
       "      <th>line_num</th>\n",
       "      <th>part</th>\n",
       "      <th>operation</th>\n",
       "      <th>part_price</th>\n",
       "      <th>labour_amt</th>\n",
       "    </tr>\n",
       "  </thead>\n",
       "  <tbody>\n",
       "    <tr>\n",
       "      <th>0</th>\n",
       "      <td>7535</td>\n",
       "      <td>Peugeot</td>\n",
       "      <td>406</td>\n",
       "      <td>2004.0</td>\n",
       "      <td>Front Right</td>\n",
       "      <td>1</td>\n",
       "      <td>fbumper</td>\n",
       "      <td>replace</td>\n",
       "      <td>1061.609985</td>\n",
       "      <td>130.000001</td>\n",
       "    </tr>\n",
       "    <tr>\n",
       "      <th>1</th>\n",
       "      <td>2643</td>\n",
       "      <td>Ford</td>\n",
       "      <td>C-max</td>\n",
       "      <td>2008.0</td>\n",
       "      <td>Rear Centre</td>\n",
       "      <td>1</td>\n",
       "      <td>bbumper</td>\n",
       "      <td>repair</td>\n",
       "      <td>NaN</td>\n",
       "      <td>195.000000</td>\n",
       "    </tr>\n",
       "  </tbody>\n",
       "</table>\n",
       "</div>"
      ],
      "text/plain": [
       "   claim_id     make  model    year          poi  line_num     part operation  \\\n",
       "0      7535  Peugeot    406  2004.0  Front Right         1  fbumper   replace   \n",
       "1      2643     Ford  C-max  2008.0  Rear Centre         1  bbumper    repair   \n",
       "\n",
       "    part_price  labour_amt  \n",
       "0  1061.609985  130.000001  \n",
       "1          NaN  195.000000  "
      ]
     },
     "execution_count": 3,
     "metadata": {},
     "output_type": "execute_result"
    }
   ],
   "source": [
    "claims.head(2)"
   ]
  },
  {
   "cell_type": "code",
   "execution_count": 4,
   "metadata": {},
   "outputs": [
    {
     "name": "stdout",
     "output_type": "stream",
     "text": [
      "Total number of the line item: 199827\n",
      "No. of Unique Customers: 94544\n"
     ]
    }
   ],
   "source": [
    "### General info of metadata\n",
    "print('Total number of the line item: ' + str(claims.shape[0]))\n",
    "print('No. of Unique Customers: ' + str(claims.claim_id.nunique()))"
   ]
  },
  {
   "cell_type": "code",
   "execution_count": 5,
   "metadata": {},
   "outputs": [],
   "source": [
    "### Load Classifier Output\n",
    "classifier = pd.read_csv('input/classifier_output.csv')"
   ]
  },
  {
   "cell_type": "code",
   "execution_count": 6,
   "metadata": {},
   "outputs": [
    {
     "data": {
      "text/html": [
       "<div>\n",
       "<style scoped>\n",
       "    .dataframe tbody tr th:only-of-type {\n",
       "        vertical-align: middle;\n",
       "    }\n",
       "\n",
       "    .dataframe tbody tr th {\n",
       "        vertical-align: top;\n",
       "    }\n",
       "\n",
       "    .dataframe thead th {\n",
       "        text-align: right;\n",
       "    }\n",
       "</style>\n",
       "<table border=\"1\" class=\"dataframe\">\n",
       "  <thead>\n",
       "    <tr style=\"text-align: right;\">\n",
       "      <th></th>\n",
       "      <th>claim_id</th>\n",
       "      <th>part</th>\n",
       "      <th>urr_score</th>\n",
       "      <th>set</th>\n",
       "    </tr>\n",
       "  </thead>\n",
       "  <tbody>\n",
       "    <tr>\n",
       "      <th>0</th>\n",
       "      <td>0</td>\n",
       "      <td>fbumper</td>\n",
       "      <td>0.464102</td>\n",
       "      <td>0</td>\n",
       "    </tr>\n",
       "    <tr>\n",
       "      <th>1</th>\n",
       "      <td>0</td>\n",
       "      <td>bbumper</td>\n",
       "      <td>0.680342</td>\n",
       "      <td>0</td>\n",
       "    </tr>\n",
       "  </tbody>\n",
       "</table>\n",
       "</div>"
      ],
      "text/plain": [
       "   claim_id     part  urr_score  set\n",
       "0         0  fbumper   0.464102    0\n",
       "1         0  bbumper   0.680342    0"
      ]
     },
     "execution_count": 6,
     "metadata": {},
     "output_type": "execute_result"
    }
   ],
   "source": [
    "classifier.head(2)"
   ]
  },
  {
   "cell_type": "code",
   "execution_count": 7,
   "metadata": {},
   "outputs": [
    {
     "name": "stdout",
     "output_type": "stream",
     "text": [
      "No. of Unique Customers: 100000\n"
     ]
    }
   ],
   "source": [
    "### General info of Classifier\n",
    "print('No. of Unique Customers: ' + str(classifier.claim_id.nunique()))"
   ]
  },
  {
   "cell_type": "code",
   "execution_count": 8,
   "metadata": {},
   "outputs": [],
   "source": [
    "total = classifier.merge(claims, how = 'left', on =['claim_id', 'part']) \n",
    "total.dropna(subset=['urr_score'], inplace=True)"
   ]
  },
  {
   "cell_type": "code",
   "execution_count": 9,
   "metadata": {},
   "outputs": [
    {
     "name": "stdout",
     "output_type": "stream",
     "text": [
      "Total number of claims: 682424\n",
      "No. of Unique Customers: 99957\n"
     ]
    }
   ],
   "source": [
    "### General info of merged data\n",
    "print('Total number of claims: ' + str(total.shape[0]))\n",
    "print('No. of Unique Customers: ' + str(total.claim_id.nunique()))"
   ]
  },
  {
   "cell_type": "code",
   "execution_count": 10,
   "metadata": {},
   "outputs": [
    {
     "data": {
      "text/plain": [
       "NaN        491232\n",
       "repair     131609\n",
       "replace     59583\n",
       "Name: operation, dtype: int64"
      ]
     },
     "execution_count": 10,
     "metadata": {},
     "output_type": "execute_result"
    }
   ],
   "source": [
    "total.operation.value_counts(dropna=False)"
   ]
  },
  {
   "cell_type": "code",
   "execution_count": 11,
   "metadata": {},
   "outputs": [],
   "source": [
    "total['operation'] = total['operation'].fillna('undamaged') # replace operation by undamaged if no records in metadata"
   ]
  },
  {
   "cell_type": "code",
   "execution_count": 12,
   "metadata": {},
   "outputs": [],
   "source": [
    "train = total[total.set == 0]\n",
    "val = total[total.set == 1]\n",
    "test = total[total.set == 2]"
   ]
  },
  {
   "cell_type": "markdown",
   "metadata": {},
   "source": [
    "#### 1. Analyse the performance of the classifiers"
   ]
  },
  {
   "cell_type": "code",
   "execution_count": 13,
   "metadata": {},
   "outputs": [],
   "source": [
    "df = train"
   ]
  },
  {
   "cell_type": "code",
   "execution_count": 14,
   "metadata": {},
   "outputs": [
    {
     "data": {
      "image/png": "[encoded data removed]",
      "text/plain": [
       "<Figure size 720x216 with 2 Axes>"
      ]
     },
     "metadata": {},
     "output_type": "display_data"
    }
   ],
   "source": [
    "f,ax=plt.subplots(1,2,figsize=(10,3))\n",
    "df['operation'].value_counts().plot.pie(explode=[0,0,0.1],autopct='%1.1f%%',ax=ax[0],shadow=True)\n",
    "ax[0].set_title('operation status')\n",
    "ax[0].set_ylabel('')\n",
    "\n",
    "sns.countplot('operation',data=df,ax=ax[1])\n",
    "ax[1].set_title('operation Status')\n",
    "plt.show()"
   ]
  },
  {
   "cell_type": "markdown",
   "metadata": {},
   "source": [
    "**Finding**: \n",
    "- undamaged:replace:repair=7:2:1\n",
    "- label is unbalanced"
   ]
  },
  {
   "cell_type": "code",
   "execution_count": 15,
   "metadata": {},
   "outputs": [
    {
     "data": {
      "image/png": "[encoded data removed]",
      "text/plain": [
       "<Figure size 288x432 with 1 Axes>"
      ]
     },
     "metadata": {},
     "output_type": "display_data"
    }
   ],
   "source": [
    "f,ax=plt.subplots(figsize=(4,6)) \n",
    "sns.kdeplot(data=df, x='urr_score', hue='operation')\n",
    "ax.set_title('Distribution of perdicted score by true labels')\n",
    "#ax.set_ylabel('')\n",
    "plt.show()"
   ]
  },
  {
   "cell_type": "markdown",
   "metadata": {},
   "source": [
    "**Finding**: \n",
    "- Ideally, the smaller the overlap between three group, the higher the discrimination power\n",
    "- Due to the unbalanced data, especially the high proportion of undamaged, the ovelapping is quite high, however, we can easily see that there is a right shift of score distribution for three groups. "
   ]
  },
  {
   "cell_type": "code",
   "execution_count": 16,
   "metadata": {},
   "outputs": [],
   "source": [
    "def percentile(n):\n",
    "    def percentile_(x):\n",
    "        return x.quantile(n)\n",
    "    percentile_.__name__ = 'percentile_{:2.0f}'.format(n*100)\n",
    "    return percentile_"
   ]
  },
  {
   "cell_type": "code",
   "execution_count": 17,
   "metadata": {},
   "outputs": [
    {
     "data": {
      "text/html": [
       "<div>\n",
       "<style scoped>\n",
       "    .dataframe tbody tr th:only-of-type {\n",
       "        vertical-align: middle;\n",
       "    }\n",
       "\n",
       "    .dataframe tbody tr th {\n",
       "        vertical-align: top;\n",
       "    }\n",
       "\n",
       "    .dataframe thead th {\n",
       "        text-align: right;\n",
       "    }\n",
       "</style>\n",
       "<table border=\"1\" class=\"dataframe\">\n",
       "  <thead>\n",
       "    <tr style=\"text-align: right;\">\n",
       "      <th></th>\n",
       "      <th>count</th>\n",
       "      <th>mean</th>\n",
       "      <th>std</th>\n",
       "      <th>amin</th>\n",
       "      <th>percentile_25</th>\n",
       "      <th>median</th>\n",
       "      <th>percentile_75</th>\n",
       "      <th>amax</th>\n",
       "    </tr>\n",
       "    <tr>\n",
       "      <th>operation</th>\n",
       "      <th></th>\n",
       "      <th></th>\n",
       "      <th></th>\n",
       "      <th></th>\n",
       "      <th></th>\n",
       "      <th></th>\n",
       "      <th></th>\n",
       "      <th></th>\n",
       "    </tr>\n",
       "  </thead>\n",
       "  <tbody>\n",
       "    <tr>\n",
       "      <th>repair</th>\n",
       "      <td>105422</td>\n",
       "      <td>0.401017</td>\n",
       "      <td>0.154586</td>\n",
       "      <td>6.198883e-06</td>\n",
       "      <td>0.299719</td>\n",
       "      <td>0.397462</td>\n",
       "      <td>0.488977</td>\n",
       "      <td>0.999236</td>\n",
       "    </tr>\n",
       "    <tr>\n",
       "      <th>replace</th>\n",
       "      <td>47773</td>\n",
       "      <td>0.666111</td>\n",
       "      <td>0.186892</td>\n",
       "      <td>5.297899e-03</td>\n",
       "      <td>0.545761</td>\n",
       "      <td>0.683678</td>\n",
       "      <td>0.807491</td>\n",
       "      <td>0.999491</td>\n",
       "    </tr>\n",
       "    <tr>\n",
       "      <th>undamaged</th>\n",
       "      <td>392799</td>\n",
       "      <td>0.266627</td>\n",
       "      <td>0.170753</td>\n",
       "      <td>1.192093e-07</td>\n",
       "      <td>0.140393</td>\n",
       "      <td>0.230525</td>\n",
       "      <td>0.353738</td>\n",
       "      <td>0.999923</td>\n",
       "    </tr>\n",
       "  </tbody>\n",
       "</table>\n",
       "</div>"
      ],
      "text/plain": [
       "            count      mean       std          amin  percentile_25    median  \\\n",
       "operation                                                                      \n",
       "repair     105422  0.401017  0.154586  6.198883e-06       0.299719  0.397462   \n",
       "replace     47773  0.666111  0.186892  5.297899e-03       0.545761  0.683678   \n",
       "undamaged  392799  0.266627  0.170753  1.192093e-07       0.140393  0.230525   \n",
       "\n",
       "           percentile_75      amax  \n",
       "operation                           \n",
       "repair          0.488977  0.999236  \n",
       "replace         0.807491  0.999491  \n",
       "undamaged       0.353738  0.999923  "
      ]
     },
     "execution_count": 17,
     "metadata": {},
     "output_type": "execute_result"
    }
   ],
   "source": [
    "# summry table of urr_score by operation decision\n",
    "df.groupby('operation')['urr_score'].agg(['count', np.mean, np.std, np.min, percentile(0.25), np.median, percentile(0.75), np.max])"
   ]
  },
  {
   "cell_type": "markdown",
   "metadata": {},
   "source": [
    "**Finding**: \n",
    "- From the percentil, we can easily found that score perform well to differentiate three groups."
   ]
  },
  {
   "cell_type": "markdown",
   "metadata": {},
   "source": [
    "### 2. Find the optimum thresholds\n",
    "\n",
    "To define the threshold for three groups (undamaged/repair/replace classes), two extra labels were generated so that the threshold is calculated through ONE V.S. Others\n",
    "- is_damaged: whether the part is damaged\n",
    "- is_replace: whether the part need to be replaced"
   ]
  },
  {
   "cell_type": "code",
   "execution_count": 18,
   "metadata": {},
   "outputs": [],
   "source": [
    "df['is_damaged'] = (df['operation'] != 'undamaged').apply(np.uint8)\n",
    "df['is_replace'] = (df['operation'] == 'replace').apply(np.uint8)"
   ]
  },
  {
   "cell_type": "markdown",
   "metadata": {},
   "source": [
    "**Metthod 1**  - ROC & G-MEAN"
   ]
  },
  {
   "cell_type": "code",
   "execution_count": 19,
   "metadata": {},
   "outputs": [],
   "source": [
    "# Define a function to plot the ROC/AUC\n",
    "def plotRocAuc(y_true, y_pred):\n",
    "    '''\n",
    "    \n",
    "    ----------------------------------------------------------------------\n",
    "    :param y_true:  true label.\n",
    "    :param y_pred: prdeicted pd.\n",
    "    ----------------------------------------------------------------------\n",
    "    :return roc plot\n",
    "    ----------------------------------------------------------------------\n",
    "\n",
    "    '''\n",
    " \n",
    "    \n",
    "    fpr, tpr, thresholds = roc_curve(y_true, y_pred)    # Compute the ROC curve\n",
    "    plt.plot([0, 1], [0, 1], linestyle='--') # Plot the \"dumb model\" line\n",
    "    plt.plot(fpr, tpr, marker='.') # Plot the model line\n",
    "    plt.text(0.75, 0.25, \"AUC: \" + str(round(roc_auc_score(y_true, y_pred),2)))\n",
    "    plt.show()"
   ]
  },
  {
   "cell_type": "code",
   "execution_count": 20,
   "metadata": {},
   "outputs": [
    {
     "data": {
      "image/png": "[encoded data removed]",
      "text/plain": [
       "<Figure size 432x288 with 1 Axes>"
      ]
     },
     "metadata": {},
     "output_type": "display_data"
    }
   ],
   "source": [
    "plotRocAuc(df['is_damaged'], df['urr_score'])"
   ]
  },
  {
   "cell_type": "code",
   "execution_count": 21,
   "metadata": {},
   "outputs": [
    {
     "data": {
      "image/png": "[encoded data removed]",
      "text/plain": [
       "<Figure size 432x288 with 1 Axes>"
      ]
     },
     "metadata": {},
     "output_type": "display_data"
    }
   ],
   "source": [
    "plotRocAuc(df['is_replace'], df['urr_score'])"
   ]
  },
  {
   "cell_type": "markdown",
   "metadata": {},
   "source": [
    "**Finding**: \n",
    "- AUC is 0.8, means that a randomly selected case from the group with the target equals 1 has a score larger than that for a randomly chosen case from the group with the target equals 0 in 80% of the time. \n",
    "- Classifier performs very well to distinguish between two groups, especially at replaced v.s. others. "
   ]
  },
  {
   "cell_type": "code",
   "execution_count": 22,
   "metadata": {},
   "outputs": [],
   "source": [
    "def thresholdGmean(y_true, y_pred):\n",
    "    '''\n",
    "    \n",
    "    '''\n",
    "    fpr, tpr, thresholds = roc_curve(y_true, y_pred)\n",
    "    df_fpr_tpr = pd.DataFrame({'FPR':fpr, 'TPR':tpr, 'Threshold':thresholds})\n",
    "    df_fpr_tpr.head()\n",
    "    gmean = np.sqrt(tpr * (1 - fpr))\n",
    "    \n",
    "    # Find the optimal threshold\n",
    "    index = np.argmax(gmean)\n",
    "    thresholdOpt = round(thresholds[index], ndigits = 4)\n",
    "    \n",
    "    return thresholdOpt"
   ]
  },
  {
   "cell_type": "code",
   "execution_count": 23,
   "metadata": {},
   "outputs": [
    {
     "data": {
      "text/plain": [
       "0.3274"
      ]
     },
     "execution_count": 23,
     "metadata": {},
     "output_type": "execute_result"
    }
   ],
   "source": [
    "thresholdGmean(df['is_damaged'], df['urr_score'])"
   ]
  },
  {
   "cell_type": "code",
   "execution_count": 24,
   "metadata": {},
   "outputs": [
    {
     "data": {
      "text/plain": [
       "0.4806"
      ]
     },
     "execution_count": 24,
     "metadata": {},
     "output_type": "execute_result"
    }
   ],
   "source": [
    "thresholdGmean(df['is_replace'], df['urr_score'])"
   ]
  },
  {
   "cell_type": "markdown",
   "metadata": {},
   "source": [
    "**Method 2** KS Plot"
   ]
  },
  {
   "cell_type": "code",
   "execution_count": 25,
   "metadata": {},
   "outputs": [],
   "source": [
    "# define a function to plot KS to decide the threshold\n",
    "def KS(score_df, score, y):\n",
    "    '''\n",
    "    \n",
    "    ----------------------------------------------------------------------\n",
    "    :param score_df:  dataframe.\n",
    "    :param score: prdeicted pd.\n",
    "    :y: true label\n",
    "    ----------------------------------------------------------------------\n",
    "    :return score_df.loc[:, ['tpr', 'fpr', 'ks']]: dataframe, tpr and fpr for each score\n",
    "    ----------------------------------------------------------------------\n",
    "\n",
    "    '''\n",
    "    score_df = score_df.sort_values(by = score, ascending = False)\n",
    "    total_bad = score_df[y].sum()\n",
    "    total_good = score_df.shape[0] - total_bad\n",
    "    score_df = pd.crosstab(index = score_df[score], columns = score_df[y]).fillna(0) # regarding the score as threshold, calculate the number of positive and negative \n",
    "    score_df['tpr'] = score_df[1].cumsum() / total_bad #calculate tpr\n",
    "    score_df['fpr'] = score_df[0].cumsum() / total_good #calculate fpr\n",
    "    score_df['ks'] = abs(score_df.tpr - score_df.fpr) #calculate ks\n",
    "    max_ks = score_df.ks.max() #take the maximal value of ks\n",
    "    max_ks_score = score_df[score_df.ks == max_ks].index.values[0] #take the score which achieve the maximal KS\n",
    "    score_df.tpr.plot(label = 'tpr', c = 'red')\n",
    "    score_df.fpr.plot(label = 'fpr', c = 'green')\n",
    "    score_df.ks.plot(label = 'ks', c = 'black')\n",
    "    plt.text(max_ks_score, max_ks, s = f'{max_ks_score:.2f}, {max_ks:.4f}')\n",
    "    plt.legend()\n",
    "    plt.show()\n",
    "    \n",
    "    return score_df.loc[:, ['tpr', 'fpr', 'ks']]\n"
   ]
  },
  {
   "cell_type": "code",
   "execution_count": 26,
   "metadata": {},
   "outputs": [
    {
     "data": {
      "image/png": "[encoded data removed]",
      "text/plain": [
       "<Figure size 432x288 with 1 Axes>"
      ]
     },
     "metadata": {},
     "output_type": "display_data"
    }
   ],
   "source": [
    "ks_df = KS(df, 'urr_score', 'is_damaged')"
   ]
  },
  {
   "cell_type": "code",
   "execution_count": 27,
   "metadata": {},
   "outputs": [
    {
     "data": {
      "image/png": "[encoded data removed]",
      "text/plain": [
       "<Figure size 432x288 with 1 Axes>"
      ]
     },
     "metadata": {},
     "output_type": "display_data"
    }
   ],
   "source": [
    "ks_df = KS(df, 'urr_score', 'is_replace')"
   ]
  },
  {
   "cell_type": "markdown",
   "metadata": {},
   "source": [
    "**Finding**: \n",
    "- K-S or Kolmogorov-Smirnov chart measures performance of classification models. More accurately, K-S is a measure of the degree of separation between the positive and negative distributions. The K-S is 100 if the scores partition the population into two separate groups in which one group contains all the positives and the other all the negatives. On the other hand, If the model cannot differentiate between positives and negatives, then it is as if the model selects cases randomly from the population. The K-S would be 0. In most classification models the K-S will fall between 0 and 100, and that the higher the value the better the model is at separating the positive from negative cases.\n",
    "\n",
    "- K-S fomular: max(|cum_bad_rate - cum_good_rate|)\n",
    " \n",
    "- To sepearte damaged from undamaged, we select threshold as 0.32, which can achieve decent discrimination power with k-s equals to 48%\n",
    "- To sepearte replaced from others, we select threshold as 0.48, which can achieve very good discrimination power with k-s equals to 69%\n",
    "\n",
    "- The threshold from KS-plot and G-MEAN are very close, as they both consider TPR and FPR \n"
   ]
  },
  {
   "cell_type": "markdown",
   "metadata": {},
   "source": [
    "**Method 3** Precision Recall Plot & F1 score"
   ]
  },
  {
   "cell_type": "code",
   "execution_count": 28,
   "metadata": {},
   "outputs": [],
   "source": [
    "def thresholdF1(y_true, y_pred):\n",
    "    '''\n",
    "    \n",
    "    \n",
    "    '''\n",
    "    precision, recall, thresholds = precision_recall_curve(y_true, y_pred)\n",
    "    df_recall_precision = pd.DataFrame({'Precision':precision[:-1],\n",
    "                                        'Recall':recall[:-1],\n",
    "                                        'Threshold':thresholds})\n",
    "\n",
    "    # Calculate the f-score\n",
    "    fscore = (2 * precision * recall) / (precision + recall)\n",
    "    \n",
    "    # Find the optimal threshold\n",
    "    index = np.nanargmax(fscore)\n",
    "    thresholdOpt = round(thresholds[index], ndigits = 4)\n",
    "    fscoreOpt = round(fscore[index], ndigits = 4)\n",
    "    \n",
    "    return thresholdOpt, fscoreOpt"
   ]
  },
  {
   "cell_type": "code",
   "execution_count": 29,
   "metadata": {},
   "outputs": [
    {
     "data": {
      "text/plain": [
       "(0.3384, 0.6111)"
      ]
     },
     "execution_count": 29,
     "metadata": {},
     "output_type": "execute_result"
    }
   ],
   "source": [
    "thresholdF1(df['is_damaged'], df['urr_score'])"
   ]
  },
  {
   "cell_type": "code",
   "execution_count": 30,
   "metadata": {},
   "outputs": [
    {
     "data": {
      "text/plain": [
       "(0.5995, 0.5806)"
      ]
     },
     "execution_count": 30,
     "metadata": {},
     "output_type": "execute_result"
    }
   ],
   "source": [
    "thresholdF1(df['is_replace'], df['urr_score'])"
   ]
  },
  {
   "cell_type": "markdown",
   "metadata": {},
   "source": [
    "**Finding**: \n",
    "- Precison-Recall look at TPR and PPR, which a better measurement for imbalanced data\n",
    "\n",
    "- The threshold is higher for replaced"
   ]
  },
  {
   "cell_type": "markdown",
   "metadata": {},
   "source": [
    "### 3. Check Performace"
   ]
  },
  {
   "cell_type": "code",
   "execution_count": 31,
   "metadata": {},
   "outputs": [],
   "source": [
    "# generate predicted label by defined threshold (KS)\n",
    "df['pred_label'] = np.where(df.urr_score<=0.32, 0, np.where((df.urr_score>0.32) & (df.urr_score<=0.48), 1, 2))\n",
    "\n",
    "# convert true label as numeric \n",
    "lookup = {\"undamaged\":0, \"repair\":1, \"replace\":2}\n",
    "df['true_label'] = df['operation'].map(lookup)"
   ]
  },
  {
   "cell_type": "code",
   "execution_count": 32,
   "metadata": {},
   "outputs": [
    {
     "name": "stdout",
     "output_type": "stream",
     "text": [
      "              precision    recall  f1-score   support\n",
      "\n",
      "   undamaged       0.89      0.69      0.78    392799\n",
      "      repair       0.35      0.43      0.39    105422\n",
      "     replace       0.36      0.84      0.51     47773\n",
      "\n",
      "    accuracy                           0.66    545994\n",
      "   macro avg       0.54      0.66      0.56    545994\n",
      "weighted avg       0.74      0.66      0.68    545994\n",
      "\n"
     ]
    }
   ],
   "source": [
    "# classfication report\n",
    "target_names = ['undamaged', 'repair', 'replace']\n",
    "print(classification_report(df['true_label'], df['pred_label'], target_names=target_names))"
   ]
  },
  {
   "cell_type": "code",
   "execution_count": 33,
   "metadata": {},
   "outputs": [],
   "source": [
    "def processing(df, cutoff1, cutoff2):\n",
    "    '''\n",
    "    \n",
    "    Apply same processing on train, val and test data\n",
    "    \n",
    "    '''\n",
    "    df['is_damaged'] = (df['operation'] != 'undamaged').apply(np.uint8)\n",
    "    df['is_replace'] = (df['operation'] == 'replace').apply(np.uint8)\n",
    "    \n",
    "    df['pred_label'] = np.where(df.urr_score<=cutoff1, 0, np.where((df.urr_score>cutoff1) & (df.urr_score<=cutoff2), 1, 2))\n",
    "    \n",
    "    lookup = {\"undamaged\":0, \"repair\":1, \"replace\":2}\n",
    "    df['true_label'] = df['operation'].map(lookup)\n",
    "    \n",
    "    return df\n"
   ]
  },
  {
   "cell_type": "code",
   "execution_count": 34,
   "metadata": {},
   "outputs": [],
   "source": [
    "# Threshold by ROC\n",
    "train_1 = processing(train, 0.32, 0.48)\n",
    "val_1 = processing(val, 0.32, 0.48)\n",
    "test_1 = processing(test, 0.32, 0.48)"
   ]
  },
  {
   "cell_type": "code",
   "execution_count": 35,
   "metadata": {},
   "outputs": [],
   "source": [
    "target_names = ['undamaged', 'repair', 'replace']"
   ]
  },
  {
   "cell_type": "code",
   "execution_count": 36,
   "metadata": {},
   "outputs": [
    {
     "name": "stdout",
     "output_type": "stream",
     "text": [
      "              precision    recall  f1-score   support\n",
      "\n",
      "   undamaged       0.89      0.69      0.78    392799\n",
      "      repair       0.35      0.43      0.39    105422\n",
      "     replace       0.36      0.84      0.51     47773\n",
      "\n",
      "    accuracy                           0.66    545994\n",
      "   macro avg       0.54      0.66      0.56    545994\n",
      "weighted avg       0.74      0.66      0.68    545994\n",
      "\n"
     ]
    }
   ],
   "source": [
    "# classfication report on training table\n",
    "print(classification_report(train_1['true_label'], train_1['pred_label'], target_names=target_names))"
   ]
  },
  {
   "cell_type": "code",
   "execution_count": 37,
   "metadata": {},
   "outputs": [
    {
     "name": "stdout",
     "output_type": "stream",
     "text": [
      "              precision    recall  f1-score   support\n",
      "\n",
      "   undamaged       0.89      0.69      0.78     49045\n",
      "      repair       0.34      0.43      0.38     12989\n",
      "     replace       0.35      0.82      0.49      5961\n",
      "\n",
      "    accuracy                           0.65     67995\n",
      "   macro avg       0.53      0.65      0.55     67995\n",
      "weighted avg       0.74      0.65      0.68     67995\n",
      "\n"
     ]
    }
   ],
   "source": [
    "# classfication report on validation table\n",
    "print(classification_report(val_1['true_label'], val_1['pred_label'], target_names=target_names))"
   ]
  },
  {
   "cell_type": "code",
   "execution_count": 38,
   "metadata": {},
   "outputs": [
    {
     "name": "stdout",
     "output_type": "stream",
     "text": [
      "              precision    recall  f1-score   support\n",
      "\n",
      "   undamaged       0.89      0.69      0.78     49388\n",
      "      repair       0.34      0.43      0.38     13198\n",
      "     replace       0.35      0.81      0.49      5849\n",
      "\n",
      "    accuracy                           0.65     68435\n",
      "   macro avg       0.53      0.64      0.55     68435\n",
      "weighted avg       0.74      0.65      0.68     68435\n",
      "\n"
     ]
    }
   ],
   "source": [
    "# classfication report on test table\n",
    "print(classification_report(test_1['true_label'], test_1['pred_label'], target_names=target_names))"
   ]
  },
  {
   "cell_type": "code",
   "execution_count": 39,
   "metadata": {},
   "outputs": [],
   "source": [
    "# Threshold by precision-recall\n",
    "train_2 = processing(train, 0.34, 0.60)\n",
    "val_2 = processing(val, 0.34, 0.60)\n",
    "test_2 = processing(test, 0.34, 0.60)"
   ]
  },
  {
   "cell_type": "code",
   "execution_count": 40,
   "metadata": {},
   "outputs": [
    {
     "name": "stdout",
     "output_type": "stream",
     "text": [
      "              precision    recall  f1-score   support\n",
      "\n",
      "   undamaged       0.88      0.73      0.80    392799\n",
      "      repair       0.37      0.56      0.45    105422\n",
      "     replace       0.52      0.66      0.58     47773\n",
      "\n",
      "    accuracy                           0.69    545994\n",
      "   macro avg       0.59      0.65      0.61    545994\n",
      "weighted avg       0.75      0.69      0.71    545994\n",
      "\n"
     ]
    }
   ],
   "source": [
    "# classfication report on training table\n",
    "print(classification_report(train_2['true_label'], train_2['pred_label'], target_names=target_names))"
   ]
  },
  {
   "cell_type": "code",
   "execution_count": 41,
   "metadata": {},
   "outputs": [
    {
     "name": "stdout",
     "output_type": "stream",
     "text": [
      "              precision    recall  f1-score   support\n",
      "\n",
      "   undamaged       0.88      0.72      0.79     49045\n",
      "      repair       0.36      0.57      0.44     12989\n",
      "     replace       0.50      0.62      0.55      5961\n",
      "\n",
      "    accuracy                           0.68     67995\n",
      "   macro avg       0.58      0.64      0.59     67995\n",
      "weighted avg       0.75      0.68      0.70     67995\n",
      "\n"
     ]
    }
   ],
   "source": [
    "# classfication report on validation table\n",
    "print(classification_report(val_2['true_label'], val_2['pred_label'], target_names=target_names))"
   ]
  },
  {
   "cell_type": "code",
   "execution_count": 42,
   "metadata": {},
   "outputs": [
    {
     "name": "stdout",
     "output_type": "stream",
     "text": [
      "              precision    recall  f1-score   support\n",
      "\n",
      "   undamaged       0.88      0.72      0.79     49388\n",
      "      repair       0.36      0.56      0.44     13198\n",
      "     replace       0.49      0.62      0.55      5849\n",
      "\n",
      "    accuracy                           0.68     68435\n",
      "   macro avg       0.58      0.63      0.59     68435\n",
      "weighted avg       0.75      0.68      0.70     68435\n",
      "\n"
     ]
    }
   ],
   "source": [
    "# classfication report on test table\n",
    "print(classification_report(test_2['true_label'], test_2['pred_label'], target_names=target_names))"
   ]
  },
  {
   "cell_type": "markdown",
   "metadata": {},
   "source": [
    "**Finding**: \n",
    "- recall(TPR) is best for replace, follwed by undamaged, then repair, as repair has large overlapping with undmaged and replace\n",
    "- Precision measures how often it is correct if the prediction is yes, low for repair and replace, which indicates a detected damage might not be real damage\n",
    "- F1-score is a combination of recall and precision, which is a good metric for unbalanced data\n",
    "- macro avg F1 treats all classes eqaully, the value is 0.55 as affected by the minority class\n",
    "- weighted avg F1 treats each class differentely, the value is 0.68, slightly higher macro avg F1, as it gives higher weight on the majority class\n"
   ]
  },
  {
   "cell_type": "markdown",
   "metadata": {},
   "source": [
    "#### 4. Threshold tuning"
   ]
  },
  {
   "cell_type": "code",
   "execution_count": 43,
   "metadata": {},
   "outputs": [
    {
     "name": "stdout",
     "output_type": "stream",
     "text": [
      "Length of sequence: 100\n",
      "Best Threshold: 0.6 with F-Score: 0.5805\n"
     ]
    },
    {
     "data": {
      "text/html": [
       "<div>\n",
       "<style scoped>\n",
       "    .dataframe tbody tr th:only-of-type {\n",
       "        vertical-align: middle;\n",
       "    }\n",
       "\n",
       "    .dataframe tbody tr th {\n",
       "        vertical-align: top;\n",
       "    }\n",
       "\n",
       "    .dataframe thead th {\n",
       "        text-align: right;\n",
       "    }\n",
       "</style>\n",
       "<table border=\"1\" class=\"dataframe\">\n",
       "  <thead>\n",
       "    <tr style=\"text-align: right;\">\n",
       "      <th></th>\n",
       "      <th>F-score</th>\n",
       "      <th>Threshold</th>\n",
       "    </tr>\n",
       "  </thead>\n",
       "  <tbody>\n",
       "    <tr>\n",
       "      <th>0</th>\n",
       "      <td>0.160915</td>\n",
       "      <td>0.00</td>\n",
       "    </tr>\n",
       "    <tr>\n",
       "      <th>1</th>\n",
       "      <td>0.161134</td>\n",
       "      <td>0.01</td>\n",
       "    </tr>\n",
       "    <tr>\n",
       "      <th>2</th>\n",
       "      <td>0.161492</td>\n",
       "      <td>0.02</td>\n",
       "    </tr>\n",
       "    <tr>\n",
       "      <th>3</th>\n",
       "      <td>0.162089</td>\n",
       "      <td>0.03</td>\n",
       "    </tr>\n",
       "    <tr>\n",
       "      <th>4</th>\n",
       "      <td>0.162978</td>\n",
       "      <td>0.04</td>\n",
       "    </tr>\n",
       "  </tbody>\n",
       "</table>\n",
       "</div>"
      ],
      "text/plain": [
       "    F-score  Threshold\n",
       "0  0.160915       0.00\n",
       "1  0.161134       0.01\n",
       "2  0.161492       0.02\n",
       "3  0.162089       0.03\n",
       "4  0.162978       0.04"
      ]
     },
     "execution_count": 43,
     "metadata": {},
     "output_type": "execute_result"
    }
   ],
   "source": [
    "# Array for finding the optimal threshold\n",
    "thresholds = np.arange(0.0, 1.0, 0.01)\n",
    "fscore = np.zeros(shape=(len(thresholds)))\n",
    "print('Length of sequence: {}'.format(len(thresholds)))\n",
    "\n",
    "# Fit the model\n",
    "for index, elem in enumerate(thresholds):\n",
    "    y_pred_prob = (df['urr_score'] > elem).astype('int')\n",
    "    fscore[index] = f1_score(df['is_replace'], y_pred_prob)\n",
    "\n",
    "# Find the optimal threshold\n",
    "index = np.nanargmax(fscore)\n",
    "thresholdOpt = round(thresholds[index], ndigits = 4)\n",
    "fscoreOpt = round(fscore[index], ndigits = 4)\n",
    "print('Best Threshold: {} with F-Score: {}'.format(thresholdOpt, fscoreOpt))\n",
    "\n",
    "# Plot the threshold tuning\n",
    "df_threshold_tuning = pd.DataFrame({'F-score':fscore,\n",
    "                                    'Threshold':thresholds})\n",
    "df_threshold_tuning.head()"
   ]
  },
  {
   "cell_type": "code",
   "execution_count": 44,
   "metadata": {},
   "outputs": [
    {
     "data": {
      "text/plain": [
       "Index(['F-score', 'Threshold'], dtype='object')"
      ]
     },
     "execution_count": 44,
     "metadata": {},
     "output_type": "execute_result"
    }
   ],
   "source": [
    "df_threshold_tuning.columns"
   ]
  },
  {
   "cell_type": "code",
   "execution_count": null,
   "metadata": {},
   "outputs": [],
   "source": []
  }
 ],
 "metadata": {
  "kernelspec": {
   "display_name": "Python 3",
   "language": "python",
   "name": "python3"
  },
  "language_info": {
   "codemirror_mode": {
    "name": "ipython",
    "version": 3
   },
   "file_extension": ".py",
   "mimetype": "text/x-python",
   "name": "python",
   "nbconvert_exporter": "python",
   "pygments_lexer": "ipython3",
   "version": "3.7.7"
  }
 },
 "nbformat": 4,
 "nbformat_minor": 4
}
